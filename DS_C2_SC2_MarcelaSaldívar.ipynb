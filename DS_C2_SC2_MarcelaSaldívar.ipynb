{
  "nbformat": 4,
  "nbformat_minor": 0,
  "metadata": {
    "colab": {
      "provenance": []
    },
    "kernelspec": {
      "name": "python3",
      "display_name": "Python 3"
    },
    "language_info": {
      "name": "python"
    }
  },
  "cells": [
    {
      "cell_type": "code",
      "execution_count": null,
      "metadata": {
        "id": "7RkHyFaj8U75"
      },
      "outputs": [],
      "source": [
        "#Reto 2\n",
        "#a. Extraer la información del archivo"
      ]
    },
    {
      "cell_type": "code",
      "source": [
        "from google.colab import drive\n",
        "drive.mount('/content/drive')"
      ],
      "metadata": {
        "colab": {
          "base_uri": "https://localhost:8080/"
        },
        "id": "UUUv9Vgn8pw_",
        "outputId": "f4d277c7-1461-4066-fbcf-b2c27402258b"
      },
      "execution_count": 1,
      "outputs": [
        {
          "output_type": "stream",
          "name": "stdout",
          "text": [
            "Mounted at /content/drive\n"
          ]
        }
      ]
    },
    {
      "cell_type": "code",
      "source": [
        "import pandas as pd\n",
        "import numpy as np\n",
        "pd.options.display.max_rows = 10\n",
        "pd.options.display.max_columns = 10"
      ],
      "metadata": {
        "id": "s4zT8OXdMagh"
      },
      "execution_count": 2,
      "outputs": []
    },
    {
      "cell_type": "code",
      "source": [
        "path='/content/drive/MyDrive/TLG/country_vaccinations.csv'\n",
        "df=pd.read_csv(path)"
      ],
      "metadata": {
        "id": "tK7hqye1XXNn"
      },
      "execution_count": 3,
      "outputs": []
    },
    {
      "cell_type": "code",
      "source": [
        "#b. Mostrar la estructura y tipos de datos de cada columna (datetime64)."
      ],
      "metadata": {
        "id": "Ylad5705NM2T"
      },
      "execution_count": null,
      "outputs": []
    },
    {
      "cell_type": "code",
      "source": [
        "print(df.info())"
      ],
      "metadata": {
        "colab": {
          "base_uri": "https://localhost:8080/"
        },
        "id": "BvbZTnN5Ncfq",
        "outputId": "9d000908-8a10-423f-a736-a12a83617fce"
      },
      "execution_count": 4,
      "outputs": [
        {
          "output_type": "stream",
          "name": "stdout",
          "text": [
            "<class 'pandas.core.frame.DataFrame'>\n",
            "RangeIndex: 86512 entries, 0 to 86511\n",
            "Data columns (total 15 columns):\n",
            " #   Column                               Non-Null Count  Dtype  \n",
            "---  ------                               --------------  -----  \n",
            " 0   country                              86512 non-null  object \n",
            " 1   iso_code                             86512 non-null  object \n",
            " 2   date                                 86512 non-null  object \n",
            " 3   total_vaccinations                   43607 non-null  float64\n",
            " 4   people_vaccinated                    41294 non-null  float64\n",
            " 5   people_fully_vaccinated              38802 non-null  float64\n",
            " 6   daily_vaccinations_raw               35362 non-null  float64\n",
            " 7   daily_vaccinations                   86213 non-null  float64\n",
            " 8   total_vaccinations_per_hundred       43607 non-null  float64\n",
            " 9   people_vaccinated_per_hundred        41294 non-null  float64\n",
            " 10  people_fully_vaccinated_per_hundred  38802 non-null  float64\n",
            " 11  daily_vaccinations_per_million       86213 non-null  float64\n",
            " 12  vaccines                             86512 non-null  object \n",
            " 13  source_name                          86512 non-null  object \n",
            " 14  source_website                       86512 non-null  object \n",
            "dtypes: float64(9), object(6)\n",
            "memory usage: 9.9+ MB\n",
            "None\n"
          ]
        }
      ]
    },
    {
      "cell_type": "code",
      "source": [
        "df['date'] = pd.to_datetime(df['date'])"
      ],
      "metadata": {
        "id": "PJ4qo6ckOAjQ"
      },
      "execution_count": 5,
      "outputs": []
    },
    {
      "cell_type": "code",
      "source": [
        "#c. Determinar la cantidad de vacunas aplicadas de c/compañía"
      ],
      "metadata": {
        "id": "SX57hoa8OUa7"
      },
      "execution_count": null,
      "outputs": []
    },
    {
      "cell_type": "code",
      "source": [
        "df['vaccines'] = df['vaccines'].str.split(',')\n",
        "df = df.explode('vaccines')\n",
        "df['vaccines'].value_counts()\n",
        "df.groupby('vaccines')['country'].value_counts()"
      ],
      "metadata": {
        "colab": {
          "base_uri": "https://localhost:8080/"
        },
        "id": "Xv7WJBw5jCWL",
        "outputId": "5845ad3b-0434-417e-fa70-ca5589ee9bb8"
      },
      "execution_count": 6,
      "outputs": [
        {
          "output_type": "execute_result",
          "data": {
            "text/plain": [
              "vaccines           country          \n",
              " Covaxin           Iran                 415\n",
              "                   Pakistan             402\n",
              " FAKHRAVAC         Iran                 415\n",
              " Johnson&Johnson   Mexico               461\n",
              "                   Nicaragua            390\n",
              "                                       ... \n",
              "Sinopharm/Beijing  Belarus              448\n",
              "                   Equatorial Guinea    376\n",
              "                   Kyrgyzstan           367\n",
              "                   Chad                 282\n",
              "                   Burundi              151\n",
              "Name: country, Length: 778, dtype: int64"
            ]
          },
          "metadata": {},
          "execution_count": 6
        }
      ]
    },
    {
      "cell_type": "code",
      "source": [
        "df['vaccines'] = df['vaccines'].str.split(',')\n",
        "df = df.explode('vaccines')\n",
        "df['vaccines'].value_counts()"
      ],
      "metadata": {
        "colab": {
          "base_uri": "https://localhost:8080/"
        },
        "id": "PluB4LZlix_g",
        "outputId": "6231b556-7f64-40d2-ff8c-cbba207b46f2"
      },
      "execution_count": 7,
      "outputs": [
        {
          "output_type": "execute_result",
          "data": {
            "text/plain": [
              " Pfizer/BioNTech       59919\n",
              " Oxford/AstraZeneca    47659\n",
              "Johnson&Johnson        34382\n",
              " Sinopharm/Beijing     33014\n",
              " Moderna               23913\n",
              "                       ...  \n",
              " Razi Cov Pars           415\n",
              " SpikoGen                415\n",
              "Medigen                  374\n",
              " Soberana Plus           320\n",
              " QazVac                  190\n",
              "Name: vaccines, Length: 31, dtype: int64"
            ]
          },
          "metadata": {},
          "execution_count": 7
        }
      ]
    },
    {
      "cell_type": "code",
      "source": [
        "#d. Obtener la cantidad de vacunas aplicadas en todo el mundo"
      ],
      "metadata": {
        "id": "AvHYgJnKcsXh"
      },
      "execution_count": null,
      "outputs": []
    },
    {
      "cell_type": "code",
      "source": [
        "df['total_vaccinations'].fillna(0, inplace=True)\n",
        "vacunas_mundo = df['total_vaccinations'].to_numpy()\n",
        "total_sum = np.sum(vacunas_mundo)\n",
        "print('Cantidad de vacunas aplicadas en todo el mundo:', total_sum)"
      ],
      "metadata": {
        "colab": {
          "base_uri": "https://localhost:8080/"
        },
        "id": "oUM-CCbHoHP8",
        "outputId": "52b0e7e7-a749-4007-a444-22bc66091bfe"
      },
      "execution_count": 8,
      "outputs": [
        {
          "output_type": "stream",
          "name": "stdout",
          "text": [
            "Cantidad de vacunas aplicadas en todo el mundo: 8611266925615.0\n"
          ]
        }
      ]
    },
    {
      "cell_type": "code",
      "source": [
        "array = df['total_vaccinations'].to_numpy()\n",
        "print(array)\n",
        "vacunas_mundo = np.nansum(array)\n",
        "print(vacunas_mundo)"
      ],
      "metadata": {
        "colab": {
          "base_uri": "https://localhost:8080/"
        },
        "id": "Tav_8_z-CIy0",
        "outputId": "47682c23-2a77-4780-962b-752100338983"
      },
      "execution_count": 9,
      "outputs": [
        {
          "output_type": "stream",
          "name": "stdout",
          "text": [
            "[      0.       0.       0. ... 9039729. 9039729. 9039729.]\n",
            "8611266925615.0\n"
          ]
        }
      ]
    },
    {
      "cell_type": "code",
      "source": [
        "vacuna2 = df['total_vaccinations'].sum()\n",
        "print(vacuna2)"
      ],
      "metadata": {
        "colab": {
          "base_uri": "https://localhost:8080/"
        },
        "id": "meQP9Ad1Ftlx",
        "outputId": "522a65a1-e558-4ebf-d094-a77115a01242"
      },
      "execution_count": 10,
      "outputs": [
        {
          "output_type": "stream",
          "name": "stdout",
          "text": [
            "8611266925615.0\n"
          ]
        }
      ]
    },
    {
      "cell_type": "code",
      "source": [
        "#e. Calcular el promedio de vacunas aplicadas por país"
      ],
      "metadata": {
        "id": "uCG3Q-qO_6Ic"
      },
      "execution_count": null,
      "outputs": []
    },
    {
      "cell_type": "code",
      "source": [
        "df2 = df[['country', 'total_vaccinations']].groupby('country').mean()\n",
        "print(df2)"
      ],
      "metadata": {
        "colab": {
          "base_uri": "https://localhost:8080/"
        },
        "id": "Ca9pkg-wAHms",
        "outputId": "d3bb869f-434a-4a9b-b902-ebc45bf2a9af"
      },
      "execution_count": 11,
      "outputs": [
        {
          "output_type": "stream",
          "name": "stdout",
          "text": [
            "                   total_vaccinations\n",
            "country                              \n",
            "Afghanistan              2.995975e+05\n",
            "Albania                  6.732129e+05\n",
            "Algeria                  5.899903e+05\n",
            "Andorra                  5.926496e+03\n",
            "Angola                   9.967699e+05\n",
            "...                               ...\n",
            "Wales                    4.086215e+06\n",
            "Wallis and Futuna        9.857601e+02\n",
            "Yemen                    3.380419e+04\n",
            "Zambia                   5.781640e+05\n",
            "Zimbabwe                 3.923494e+06\n",
            "\n",
            "[223 rows x 1 columns]\n"
          ]
        }
      ]
    },
    {
      "cell_type": "code",
      "source": [
        "#f. Cantidad de vacunas aplicadas el día 29/01/21 en todo el mundo"
      ],
      "metadata": {
        "id": "aLv4xDVkFVra"
      },
      "execution_count": null,
      "outputs": []
    },
    {
      "cell_type": "code",
      "source": [
        "date_filter = df['date'] == '2021-01-29'\n",
        "total_vacs_290121 = df.loc[date_filter, 'total_vaccinations'].sum()\n",
        "print('Cantidad de vacunas aplicadas el día 29/01/21 en todo el mundo:', total_vacs_290121)"
      ],
      "metadata": {
        "colab": {
          "base_uri": "https://localhost:8080/"
        },
        "id": "X3sv3_HRF6za",
        "outputId": "e145a4f5-565a-4b48-ee95-eb149a863057"
      },
      "execution_count": 12,
      "outputs": [
        {
          "output_type": "stream",
          "name": "stdout",
          "text": [
            "Cantidad de vacunas aplicadas el día 29/01/21 en todo el mundo: 274526928.0\n"
          ]
        }
      ]
    },
    {
      "cell_type": "code",
      "source": [
        "#g. Nuevo dataframe conDiferencias"
      ],
      "metadata": {
        "id": "bBE6Y48RHbko"
      },
      "execution_count": null,
      "outputs": []
    },
    {
      "cell_type": "code",
      "source": [
        "df['diferencias'] = df['daily_vaccinations'] - df['daily_vaccinations_raw']\n",
        "df['diferencias']\n",
        "conDiferencias = df['diferencias']"
      ],
      "metadata": {
        "id": "Zo6assGLHhzG"
      },
      "execution_count": 14,
      "outputs": []
    },
    {
      "cell_type": "code",
      "source": [
        "#h. Obtener el periodo de tiempo del registro c/fecha más reciente y más antigua"
      ],
      "metadata": {
        "id": "xv8JtzjrJ_78"
      },
      "execution_count": null,
      "outputs": []
    },
    {
      "cell_type": "code",
      "source": [
        "date_range = df['date'].max() - df['date'].min()\n",
        "print('Periodo de tiempo entre el registro más reciente y el más antiguo', date_range)"
      ],
      "metadata": {
        "colab": {
          "base_uri": "https://localhost:8080/"
        },
        "id": "qMXQKgQXLFNQ",
        "outputId": "3e95a2f1-926a-4f76-99b6-824ccc569191"
      },
      "execution_count": 15,
      "outputs": [
        {
          "output_type": "stream",
          "name": "stdout",
          "text": [
            "Periodo de tiempo entre el registro más reciente y el más antiguo 482 days 00:00:00\n"
          ]
        }
      ]
    },
    {
      "cell_type": "code",
      "source": [
        "#i. Nuevo dataframe conCantidad para (canVac)"
      ],
      "metadata": {
        "id": "mah1LCbSLlv8"
      },
      "execution_count": null,
      "outputs": []
    },
    {
      "cell_type": "code",
      "source": [
        "df['canVac'] = df['vaccines'].str.split('/').str.len()\n",
        "conCantidad = df['canVac']"
      ],
      "metadata": {
        "id": "t5K3X_4oLuzy"
      },
      "execution_count": 16,
      "outputs": []
    },
    {
      "cell_type": "code",
      "source": [
        "#j. Dataframe denominado antes20"
      ],
      "metadata": {
        "id": "ZEaiaSZiML1n"
      },
      "execution_count": null,
      "outputs": []
    },
    {
      "cell_type": "code",
      "source": [
        "antes20 = df[df['date'] < '2020-12-20']"
      ],
      "metadata": {
        "id": "z3UhidDEMU_I"
      },
      "execution_count": 17,
      "outputs": []
    },
    {
      "cell_type": "code",
      "source": [
        "#k. Dataframe denominado pfizer para vacuna pfizer"
      ],
      "metadata": {
        "id": "MVpz2kqCMisy"
      },
      "execution_count": null,
      "outputs": []
    },
    {
      "cell_type": "code",
      "source": [
        "pfizer = df[df['vaccines'].str.contains('Pfizer')]"
      ],
      "metadata": {
        "id": "Yi-F2rZ9Mq7R"
      },
      "execution_count": 18,
      "outputs": []
    },
    {
      "cell_type": "markdown",
      "source": [
        "#l. Almacenar los dataframes generados (conDiferencias, conCantidad, antes 20 y pfizer)"
      ],
      "metadata": {
        "id": "D6RDmyU7NKMC"
      }
    },
    {
      "cell_type": "code",
      "source": [
        "with pd.ExcelWriter('/content/drive/MyDrive/TLG/resultadosReto1.xlsx') as writer:\n",
        "  conDiferencias.to_excel(writer, sheet_name = 'conDiferencias')\n",
        "  conCantidad.to_excel(writer, sheet_name = 'conCantidad')\n",
        "  antes20.to_excel(writer, sheet_name = 'antes20')\n",
        "  pfizer.to_excel(writer, sheet_name = 'pfizer')"
      ],
      "metadata": {
        "id": "stIPuh5rPC_y"
      },
      "execution_count": 20,
      "outputs": []
    }
  ]
}